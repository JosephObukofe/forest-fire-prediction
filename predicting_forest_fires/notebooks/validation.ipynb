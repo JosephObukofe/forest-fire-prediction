{
 "cells": [
  {
   "cell_type": "code",
   "execution_count": 1,
   "metadata": {},
   "outputs": [],
   "source": [
    "import joblib\n",
    "import os\n",
    "import numpy as np\n",
    "import pandas as pd\n",
    "from predicting_forest_fires.data.custom import load_trained_model_and_validation_data, model_validation"
   ]
  },
  {
   "cell_type": "code",
   "execution_count": 3,
   "metadata": {},
   "outputs": [],
   "source": [
    "logistic_regression_model, decision_tree_model, random_forest_model, mlp_model, training_data = load_trained_model_and_validation_data()"
   ]
  },
  {
   "cell_type": "code",
   "execution_count": 4,
   "metadata": {},
   "outputs": [],
   "source": [
    "target = \"area\"\n",
    "features = training_data.columns[training_data.columns != target]\n",
    "X_train = training_data[features]\n",
    "y_train = training_data[target]"
   ]
  },
  {
   "cell_type": "code",
   "execution_count": 5,
   "metadata": {},
   "outputs": [],
   "source": [
    "logistic_regressor_model_validation = model_validation(logistic_regression_model, X_train, y_train, \"Logistic Regression Classifier\")\n",
    "decision_tree_model_validation = model_validation(decision_tree_model, X_train, y_train, \"Decision Tree Classifier\")\n",
    "random_forest_model_validation = model_validation(random_forest_model, X_train, y_train, \"Random Forest Classifier\")\n",
    "mlp_model_validation = model_validation(mlp_model, X_train, y_train, \"MLP Classifier\")\n"
   ]
  },
  {
   "cell_type": "code",
   "execution_count": 6,
   "metadata": {},
   "outputs": [
    {
     "data": {
      "text/html": [
       "<div>\n",
       "<style scoped>\n",
       "    .dataframe tbody tr th:only-of-type {\n",
       "        vertical-align: middle;\n",
       "    }\n",
       "\n",
       "    .dataframe tbody tr th {\n",
       "        vertical-align: top;\n",
       "    }\n",
       "\n",
       "    .dataframe thead th {\n",
       "        text-align: right;\n",
       "    }\n",
       "</style>\n",
       "<table border=\"1\" class=\"dataframe\">\n",
       "  <thead>\n",
       "    <tr style=\"text-align: right;\">\n",
       "      <th></th>\n",
       "      <th>Model</th>\n",
       "      <th>1st fold</th>\n",
       "      <th>2nd fold</th>\n",
       "      <th>3rd fold</th>\n",
       "      <th>4th fold</th>\n",
       "      <th>5th fold</th>\n",
       "    </tr>\n",
       "  </thead>\n",
       "  <tbody>\n",
       "    <tr>\n",
       "      <th>0</th>\n",
       "      <td>Logistic Regression Classifier</td>\n",
       "      <td>0.783918</td>\n",
       "      <td>0.783918</td>\n",
       "      <td>0.783918</td>\n",
       "      <td>0.783918</td>\n",
       "      <td>0.787693</td>\n",
       "    </tr>\n",
       "    <tr>\n",
       "      <th>1</th>\n",
       "      <td>Decision Tree Classifier</td>\n",
       "      <td>0.582341</td>\n",
       "      <td>0.758407</td>\n",
       "      <td>0.485868</td>\n",
       "      <td>0.574557</td>\n",
       "      <td>0.716144</td>\n",
       "    </tr>\n",
       "    <tr>\n",
       "      <th>2</th>\n",
       "      <td>Random Forest Classifier</td>\n",
       "      <td>0.773331</td>\n",
       "      <td>0.784065</td>\n",
       "      <td>0.779714</td>\n",
       "      <td>0.821845</td>\n",
       "      <td>0.828392</td>\n",
       "    </tr>\n",
       "    <tr>\n",
       "      <th>3</th>\n",
       "      <td>MLP Classifier</td>\n",
       "      <td>0.783918</td>\n",
       "      <td>0.788747</td>\n",
       "      <td>0.783918</td>\n",
       "      <td>0.783918</td>\n",
       "      <td>0.787693</td>\n",
       "    </tr>\n",
       "  </tbody>\n",
       "</table>\n",
       "</div>"
      ],
      "text/plain": [
       "                            Model  1st fold  2nd fold  3rd fold  4th fold  \\\n",
       "0  Logistic Regression Classifier  0.783918  0.783918  0.783918  0.783918   \n",
       "1        Decision Tree Classifier  0.582341  0.758407  0.485868  0.574557   \n",
       "2        Random Forest Classifier  0.773331  0.784065  0.779714  0.821845   \n",
       "3                  MLP Classifier  0.783918  0.788747  0.783918  0.783918   \n",
       "\n",
       "   5th fold  \n",
       "0  0.787693  \n",
       "1  0.716144  \n",
       "2  0.828392  \n",
       "3  0.787693  "
      ]
     },
     "execution_count": 6,
     "metadata": {},
     "output_type": "execute_result"
    }
   ],
   "source": [
    "combined_validation = pd.concat([logistic_regressor_model_validation, decision_tree_model_validation, random_forest_model_validation, mlp_model_validation], axis=0, ignore_index=True)\n",
    "combined_validation"
   ]
  }
 ],
 "metadata": {
  "kernelspec": {
   "display_name": "predicting-forest-fires-i3PHmrBX-py3.12",
   "language": "python",
   "name": "python3"
  },
  "language_info": {
   "codemirror_mode": {
    "name": "ipython",
    "version": 3
   },
   "file_extension": ".py",
   "mimetype": "text/x-python",
   "name": "python",
   "nbconvert_exporter": "python",
   "pygments_lexer": "ipython3",
   "version": "3.12.7"
  }
 },
 "nbformat": 4,
 "nbformat_minor": 2
}
